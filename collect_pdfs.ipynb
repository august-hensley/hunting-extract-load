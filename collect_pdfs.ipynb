{
 "cells": [
  {
   "cell_type": "code",
   "execution_count": 1,
   "metadata": {},
   "outputs": [],
   "source": [
    "from selenium import webdriver\n",
    "from selenium.webdriver.common.by import By\n",
    "import pdfplumber\n",
    "import shutil\n",
    "import os\n",
    "import time"
   ]
  },
  {
   "cell_type": "code",
   "execution_count": 2,
   "metadata": {},
   "outputs": [],
   "source": [
    "prefs = {\n",
    "    'download.prompt_for_download': False,\n",
    "    'download.directory_upgrade': True,\n",
    "    'safebrowsing.enabled': True,\n",
    "    'plugins.always_open_pdf_externally': True\n",
    "}"
   ]
  },
  {
   "cell_type": "code",
   "execution_count": 3,
   "metadata": {},
   "outputs": [],
   "source": [
    "options = webdriver.ChromeOptions()\n",
    "options.add_experimental_option('prefs', prefs)\n",
    "\n",
    "driver = webdriver.Chrome(options=options)\n",
    "# driver.get('https://cpw.state.co.us/hunting/big-game/elk/statistics')\n",
    "# driver.get('https://cpw.state.co.us/hunting/big-game/pronghorn/statistics')\n",
    "driver.get('https://cpw.state.co.us/hunting/turkey/statistics')"
   ]
  },
  {
   "cell_type": "code",
   "execution_count": null,
   "metadata": {},
   "outputs": [],
   "source": [
    "def download_pdf(year, file_name, species):\n",
    "    link = driver.find_element(By.LINK_TEXT, f'{year} Draw Recap Report')\n",
    "    if link:\n",
    "        link.click()\n",
    "    \n",
    "    time.sleep(1)\n",
    "    link = driver.find_element(By.XPATH, '//*[@id=\"download\"]')\n",
    "    if link:\n",
    "        link.click()\n",
    "        \n",
    "    time.sleep(15)\n",
    "    driver.execute_script(\"window.history.go(-1)\")\n",
    "        \n",
    "    downloads_path = os.path.join(os.environ['HOME'], 'Downloads', file_name)\n",
    "    destination = os.path.join(os.getcwd(), 'draw_recap_files', species)\n",
    "    moved_file_path = os.path.join(destination, file_name)\n",
    "    final_file_path = os.path.join(destination, f'{year}_{species}_draw_report.pdf')\n",
    "    \n",
    "    if os.path.exists(moved_file_path):\n",
    "        os.remove(moved_file_path)\n",
    "\n",
    "    try:\n",
    "        shutil.move(downloads_path, destination)\n",
    "    except:\n",
    "        time.sleep(5)\n",
    "        shutil.move(downloads_path, destination)\n",
    "\n",
    "    if os.path.exists(final_file_path):\n",
    "        os.remove(final_file_path)\n",
    "\n",
    "    os.rename(moved_file_path, final_file_path)\n"
   ]
  },
  {
   "cell_type": "code",
   "execution_count": null,
   "metadata": {},
   "outputs": [],
   "source": [
    "def run_loads(species, years=[2019,2025]):\n",
    "    \n",
    "    years_iter = range(years[0], years[1])\n",
    "    \n",
    "    for year in years_iter:\n",
    "        if species == 'elk' or species == 'pronghorn' or species == 'moose':\n",
    "            if year < 2024:\n",
    "                file_name = f'{year}{species.capitalize()}DrawRecap.pdf'\n",
    "            else:\n",
    "                file_name = f'{year} Primary {species.upper()} Post Draw Report.pdf'\n",
    "        if species == 'deer':\n",
    "            if year < 2024:\n",
    "                file_name = f'{year}DeerDrawRecap.pdf'\n",
    "            else:\n",
    "                file_name = f'{year} Primary Deer Post Draw Report.pdf'\n",
    "        if species == 'turkey':\n",
    "            if year != 2020:\n",
    "                file_name = f'{year} Primary Spring Turkey Post Draw Report.pdf'\n",
    "            else:\n",
    "                file_name = f'{year} Primary Spring Turkey Draw Recap Report.pdf'\n",
    "        \n",
    "        download_pdf(year, file_name, species)\n",
    "    \n",
    "        print(year ,'done.')\n",
    "\n",
    "        # driver.quit()"
   ]
  },
  {
   "cell_type": "code",
   "execution_count": 39,
   "metadata": {},
   "outputs": [
    {
     "name": "stdout",
     "output_type": "stream",
     "text": [
      "2019 done.\n",
      "2020 done.\n",
      "2021 done.\n",
      "2022 done.\n",
      "2023 done.\n",
      "2024 done.\n"
     ]
    }
   ],
   "source": [
    "run_loads('moose')"
   ]
  },
  {
   "cell_type": "code",
   "execution_count": 4,
   "metadata": {},
   "outputs": [],
   "source": [
    "driver.quit()"
   ]
  }
 ],
 "metadata": {
  "kernelspec": {
   "display_name": "Python 3",
   "language": "python",
   "name": "python3"
  },
  "language_info": {
   "codemirror_mode": {
    "name": "ipython",
    "version": 3
   },
   "file_extension": ".py",
   "mimetype": "text/x-python",
   "name": "python",
   "nbconvert_exporter": "python",
   "pygments_lexer": "ipython3",
   "version": "3.10.14"
  }
 },
 "nbformat": 4,
 "nbformat_minor": 2
}
